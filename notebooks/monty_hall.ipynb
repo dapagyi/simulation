{
  "cells": [
    {
      "cell_type": "markdown",
      "metadata": {},
      "source": [
        "<div class=\"alert alert-info \" role=\"alert\">\n",
        "  <h1 class=\"alert-heading\"><strong>Programming Exercise:</strong> Monty-Hall Simulation</h1>\n",
        "  <hr>\n",
        "  <p>David Apagyi, 2025-03-14</p>\n",
        "</div>"
      ]
    },
    {
      "cell_type": "code",
      "execution_count": null,
      "metadata": {},
      "outputs": [],
      "source": [
        "import random\n",
        "\n",
        "\n",
        "def monty_hall(switch_door: bool, number_of_doors: int = 3) -> bool:\n",
        "    doors = list(range(number_of_doors))\n",
        "    prize = random.choice(doors)  # noqa: S311\n",
        "    choice = random.choice(doors)  # noqa: S311\n",
        "\n",
        "    offer = random.choice([door for door in doors if door != choice and door != prize])  # noqa: S311\n",
        "    if switch_door:\n",
        "        # Change door (if n=3, there is only one door left)\n",
        "        choice = random.choice([door for door in doors if door != choice and door != offer])  # noqa: S311\n",
        "    return choice == prize\n",
        "\n",
        "\n",
        "def approximate_probability(switch_door: bool, number_of_doors: int = 3, number_of_experiments: int = 100_000) -> float:\n",
        "    return sum(monty_hall(switch_door, number_of_doors) for _ in range(number_of_experiments)) / number_of_experiments"
      ]
    },
    {
      "cell_type": "code",
      "execution_count": 2,
      "metadata": {},
      "outputs": [
        {
          "data": {
            "text/plain": [
              "0.33456"
            ]
          },
          "execution_count": 2,
          "metadata": {},
          "output_type": "execute_result"
        }
      ],
      "source": [
        "approximate_probability(switch_door=False)"
      ]
    },
    {
      "cell_type": "code",
      "execution_count": 3,
      "metadata": {},
      "outputs": [
        {
          "data": {
            "text/plain": [
              "0.66539"
            ]
          },
          "execution_count": 3,
          "metadata": {},
          "output_type": "execute_result"
        }
      ],
      "source": [
        "approximate_probability(switch_door=True)"
      ]
    }
  ],
  "metadata": {
    "kernelspec": {
      "display_name": ".venv",
      "language": "python",
      "name": "python3"
    },
    "language_info": {
      "codemirror_mode": {
        "name": "ipython",
        "version": 3
      },
      "file_extension": ".py",
      "mimetype": "text/x-python",
      "name": "python",
      "nbconvert_exporter": "python",
      "pygments_lexer": "ipython3",
      "version": "3.10.16"
    }
  },
  "nbformat": 4,
  "nbformat_minor": 2
}
